{
 "cells": [
  {
   "cell_type": "code",
   "execution_count": 1,
   "id": "30bc659d",
   "metadata": {},
   "outputs": [
    {
     "name": "stdout",
     "output_type": "stream",
     "text": [
      "Masukkan list nilai dipisahkan oleh spasi: 80 85 99 90 100 95\n",
      "3 nilai terbaik: [100, 99, 95]\n"
     ]
    }
   ],
   "source": [
    "def cari_nilai_terbaik(daftar_nilai):\n",
    "\n",
    "    daftar_nilai_terbaik = sorted(daftar_nilai, reverse=True)\n",
    "\n",
    "    nilai_terbaik = daftar_nilai_terbaik[:3]\n",
    "    return nilai_terbaik\n",
    "\n",
    "\n",
    "daftar_nilai = input(\"Masukkan list nilai dipisahkan oleh spasi: \").split()\n",
    "\n",
    "daftar_nilai = [int(x) for x in daftar_nilai]\n",
    "\n",
    "\n",
    "print(\"3 nilai terbaik:\", cari_nilai_terbaik(daftar_nilai))"
   ]
  },
  {
   "cell_type": "code",
   "execution_count": 2,
   "id": "ba988251",
   "metadata": {},
   "outputs": [
    {
     "name": "stdout",
     "output_type": "stream",
     "text": [
      "Masukkan angka (atau 'done' untuk selesai): 80\n",
      "Masukkan angka (atau 'done' untuk selesai): 50\n",
      "Masukkan angka (atau 'done' untuk selesai): 30\n",
      "Masukkan angka (atau 'done' untuk selesai): done\n",
      "Nilai maksimum: 80.0\n",
      "Nilai minimum: 30.0\n"
     ]
    }
   ],
   "source": [
    "numbers = []\n",
    "while True:\n",
    "    user_input = input(\"Masukkan angka (atau 'done' untuk selesai): \")\n",
    "    if user_input == 'done':\n",
    "        break\n",
    "    try:\n",
    "        number = float(user_input)\n",
    "        numbers.append(number)\n",
    "    except ValueError:\n",
    "        print(\"Input tidak valid. Masukkan angka atau 'done' untuk selesai.\")\n",
    "if numbers:\n",
    "    print(\"Nilai maksimum:\", max(numbers))\n",
    "    print(\"Nilai minimum:\", min(numbers))\n",
    "else:\n",
    "    print(\"Tidak ada angka yang dimasukkan.\")"
   ]
  },
  {
   "cell_type": "code",
   "execution_count": 16,
   "id": "ce69d81c",
   "metadata": {},
   "outputs": [
    {
     "name": "stdout",
     "output_type": "stream",
     "text": [
      "===isi berita===\n",
      "Sabtu, 24 Desember 2023 menjadi momentum penting bagi pekerja di kawasan industri PT. Indonesia Morowali Industrial Park (IMIP) di Sulawesi Tengah, saat 21 orang meninggal karena ledakan tungku smelter milik PT. Indonesia Tsingshan Stainless Steel (ITSS).\n",
      "==kata unik pada berita===\n",
      "['sabtu', '24', 'desember', '2023', 'menjadi', 'momentum', 'penting', 'bagi', 'pekerja', 'di', 'kawasan', 'industri', 'pt', 'indonesia', 'morowali', 'industrial', 'park', 'imip', 'sulawesi', 'tengah', 'saat', '21', 'orang', 'meninggal', 'karena', 'ledakan', 'tungku', 'smelter', 'milik', 'tsingshan', 'stainless', 'steel', 'itss']\n"
     ]
    }
   ],
   "source": [
    "with open('helen.txt', 'r', encoding='utf-8') as file:\n",
    "    isi = file.read()\n",
    "print(\"===isi berita===\")\n",
    "print(isi)\n",
    "kata = [k.strip('.,?!()') for k in isi.lower().split()]\n",
    "kata_unik = list(set(kata))\n",
    "kata_unik_list = []\n",
    "for k in kata:\n",
    "    if k not in kata_unik_list:\n",
    "        kata_unik_list.append(k)\n",
    "print(\"==kata unik pada berita===\")\n",
    "print(kata_unik_list)"
   ]
  },
  {
   "cell_type": "code",
   "execution_count": null,
   "id": "2440dc42",
   "metadata": {},
   "outputs": [],
   "source": []
  }
 ],
 "metadata": {
  "kernelspec": {
   "display_name": "Python 3 (ipykernel)",
   "language": "python",
   "name": "python3"
  },
  "language_info": {
   "codemirror_mode": {
    "name": "ipython",
    "version": 3
   },
   "file_extension": ".py",
   "mimetype": "text/x-python",
   "name": "python",
   "nbconvert_exporter": "python",
   "pygments_lexer": "ipython3",
   "version": "3.11.5"
  }
 },
 "nbformat": 4,
 "nbformat_minor": 5
}
